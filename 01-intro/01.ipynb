{
 "cells": [
  {
   "cell_type": "code",
   "execution_count": 1,
   "id": "0519c006-0d51-483b-94e8-d46e0cc7a526",
   "metadata": {},
   "outputs": [],
   "source": [
    "from google import genai\n",
    "import os\n",
    "\n",
    "GEMINI_API_KEY = os.environ[\"GEMINI_API_KEY\"]\n",
    "\n",
    "client = genai.Client(api_key=GEMINI_API_KEY)"
   ]
  },
  {
   "cell_type": "code",
   "execution_count": 3,
   "id": "06499a24-c696-4183-8114-335c46cddaac",
   "metadata": {},
   "outputs": [
    {
     "name": "stdout",
     "output_type": "stream",
     "text": [
      "To determine if it's too late to join a course, I need more information! Tell me:\n",
      "\n",
      "*   **What course are you referring to?** (e.g., \"Introduction to Python Programming on Coursera\", \"History 101 at University X\", \"That pottery class at the community center\")\n",
      "*   **Do you have any specific details like start date?** (e.g., \"The course started on Monday, January 15th\")\n",
      "*   **When do you want to join the course?**\n",
      "*   **Do you have any contact information for the course instructor or the school to reach out to?**\n",
      "*   **Is there a website for the course that lists dates or has contact information?**\n",
      "\n",
      "Once I have this information, I can help you figure out if it's too late to join. I can either:\n",
      "\n",
      "*   Look up the information myself, if you give me enough details.\n",
      "*   Help you figure out who to contact to ask.\n",
      "*   Give you general advice based on how far into the course it is.\n",
      "\n",
      "For example, if a course started yesterday, you are probably still able to join it. But if the course started six weeks ago, you might have missed too much material.\n"
     ]
    }
   ],
   "source": [
    "response = client.models.generate_content(\n",
    "    model=\"gemini-2.0-flash\",\n",
    "    # config=types.GenerateContentConfig(\n",
    "        # system_instruction=\"You are a cat. Your name is Neko.\"),\n",
    "    contents=\"Is it too late to join the course?\"\n",
    ")\n",
    "print(response.text)"
   ]
  }
 ],
 "metadata": {
  "kernelspec": {
   "display_name": "Python 3 (ipykernel)",
   "language": "python",
   "name": "python3"
  },
  "language_info": {
   "codemirror_mode": {
    "name": "ipython",
    "version": 3
   },
   "file_extension": ".py",
   "mimetype": "text/x-python",
   "name": "python",
   "nbconvert_exporter": "python",
   "pygments_lexer": "ipython3",
   "version": "3.12.1"
  }
 },
 "nbformat": 4,
 "nbformat_minor": 5
}
