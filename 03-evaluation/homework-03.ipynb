{
 "cells": [
  {
   "cell_type": "markdown",
   "id": "7f340016-bdcd-4613-91a8-5205ed8f49ba",
   "metadata": {},
   "source": [
    "## Preparation"
   ]
  },
  {
   "cell_type": "code",
   "execution_count": 1,
   "id": "4ec98ff6-fe93-49d1-9c32-07dc208b29b0",
   "metadata": {},
   "outputs": [],
   "source": [
    "import requests\n",
    "import pandas as pd\n",
    "\n",
    "url_prefix = 'https://raw.githubusercontent.com/DataTalksClub/llm-zoomcamp/main/03-evaluation/'\n",
    "docs_url = url_prefix + 'search_evaluation/documents-with-ids.json'\n",
    "documents = requests.get(docs_url).json()\n",
    "\n",
    "ground_truth_url = url_prefix + 'search_evaluation/ground-truth-data.csv'\n",
    "df_ground_truth = pd.read_csv(ground_truth_url)\n",
    "ground_truth = df_ground_truth.to_dict(orient='records')"
   ]
  },
  {
   "cell_type": "code",
   "execution_count": 2,
   "id": "b1f441d7-5a80-46c7-9ace-d2afa514f0be",
   "metadata": {},
   "outputs": [
    {
     "name": "stderr",
     "output_type": "stream",
     "text": [
      "/usr/local/python/3.12.1/lib/python3.12/site-packages/tqdm/auto.py:21: TqdmWarning: IProgress not found. Please update jupyter and ipywidgets. See https://ipywidgets.readthedocs.io/en/stable/user_install.html\n",
      "  from .autonotebook import tqdm as notebook_tqdm\n"
     ]
    }
   ],
   "source": [
    "from tqdm.auto import tqdm\n",
    "\n",
    "def hit_rate(relevance_total):\n",
    "    cnt = 0\n",
    "\n",
    "    for line in relevance_total:\n",
    "        if True in line:\n",
    "            cnt = cnt + 1\n",
    "\n",
    "    return cnt / len(relevance_total)\n",
    "\n",
    "def mrr(relevance_total):\n",
    "    total_score = 0.0\n",
    "\n",
    "    for line in relevance_total:\n",
    "        for rank in range(len(line)):\n",
    "            if line[rank] == True:\n",
    "                total_score = total_score + 1 / (rank + 1)\n",
    "\n",
    "    return total_score / len(relevance_total)\n",
    "\n",
    "def evaluate(ground_truth, search_function):\n",
    "    relevance_total = []\n",
    "\n",
    "    for q in tqdm(ground_truth):\n",
    "        doc_id = q['document']\n",
    "        results = search_function(q)\n",
    "        relevance = [d['id'] == doc_id for d in results]\n",
    "        relevance_total.append(relevance)\n",
    "\n",
    "    return {\n",
    "        'hit_rate': hit_rate(relevance_total),\n",
    "        'mrr': mrr(relevance_total),\n",
    "    }"
   ]
  },
  {
   "cell_type": "markdown",
   "id": "1a4b17e8-933a-4680-9801-374b659862ea",
   "metadata": {},
   "source": [
    "## Q1 Min Search"
   ]
  },
  {
   "cell_type": "code",
   "execution_count": 4,
   "id": "fc3f13b2-ec9c-44ff-ae2f-7a40a035c7ce",
   "metadata": {},
   "outputs": [],
   "source": [
    "import minsearch"
   ]
  },
  {
   "cell_type": "code",
   "execution_count": 5,
   "id": "2a80470e-e8a9-42bf-b620-0354b9bb1611",
   "metadata": {},
   "outputs": [
    {
     "data": {
      "text/plain": [
       "<minsearch.minsearch.Index at 0x72fcd55b4590>"
      ]
     },
     "execution_count": 5,
     "metadata": {},
     "output_type": "execute_result"
    }
   ],
   "source": [
    "index = minsearch.Index(\n",
    "    text_fields=[\"question\", \"section\", \"text\"],\n",
    "    keyword_fields=[\"course\", \"id\"]\n",
    ")\n",
    "\n",
    "index.fit(documents)"
   ]
  },
  {
   "cell_type": "code",
   "execution_count": 6,
   "id": "0fc2eb14-4637-40e0-8e49-cd0bf0869c66",
   "metadata": {},
   "outputs": [],
   "source": [
    "def minsearch_search(query, course):\n",
    "    boost = {'question': 1.5, 'section': 0.1}\n",
    "\n",
    "    results = index.search(\n",
    "        query=query,\n",
    "        filter_dict={'course': course},\n",
    "        boost_dict=boost,\n",
    "        num_results=5\n",
    "    )\n",
    "\n",
    "    return results"
   ]
  },
  {
   "cell_type": "code",
   "execution_count": 7,
   "id": "92636212-c8f4-4b5f-8a3e-2ff2acdbac0a",
   "metadata": {},
   "outputs": [
    {
     "name": "stderr",
     "output_type": "stream",
     "text": [
      "100%|██████████████████████████████████████████████████████████████████| 4627/4627 [00:14<00:00, 317.03it/s]\n"
     ]
    }
   ],
   "source": [
    "minsearch_relevance = []\n",
    "\n",
    "for q in tqdm(ground_truth):\n",
    "    doc_id = q['document']\n",
    "    results = minsearch_search(query=q['question'], course=q['course'])\n",
    "    relevance = [d['id'] == doc_id for d in results]\n",
    "    minsearch_relevance.append(relevance)"
   ]
  },
  {
   "cell_type": "code",
   "execution_count": 24,
   "id": "9208b75b-404d-446f-9f7e-37626dcfd146",
   "metadata": {},
   "outputs": [
    {
     "data": {
      "text/plain": [
       "[False, False, False, True, False]"
      ]
     },
     "execution_count": 24,
     "metadata": {},
     "output_type": "execute_result"
    }
   ],
   "source": [
    "minsearch_relevance[10]"
   ]
  },
  {
   "cell_type": "code",
   "execution_count": 8,
   "id": "6cc203d9-9c81-434c-95ef-f3fb89734d62",
   "metadata": {},
   "outputs": [
    {
     "data": {
      "text/plain": [
       "0.848714069591528"
      ]
     },
     "execution_count": 8,
     "metadata": {},
     "output_type": "execute_result"
    }
   ],
   "source": [
    "hit_rate(minsearch_relevance)"
   ]
  },
  {
   "cell_type": "markdown",
   "id": "1c048f9d-1988-449e-ae1c-011c723a882d",
   "metadata": {},
   "source": [
    "## Embeddings"
   ]
  },
  {
   "cell_type": "code",
   "execution_count": 51,
   "id": "b665d851-11b7-46c7-a1e1-4fc7d7f0a3b0",
   "metadata": {},
   "outputs": [],
   "source": [
    "from minsearch import VectorSearch\n",
    "from sklearn.feature_extraction.text import TfidfVectorizer\n",
    "from sklearn.decomposition import TruncatedSVD\n",
    "from sklearn.pipeline import make_pipeline"
   ]
  },
  {
   "cell_type": "code",
   "execution_count": 52,
   "id": "e2b31e2e-3181-4614-b6d1-37476184bb2d",
   "metadata": {},
   "outputs": [],
   "source": [
    "texts = []\n",
    "\n",
    "for doc in documents:\n",
    "    t = doc['question']\n",
    "    texts.append(t)\n",
    "\n",
    "pipeline = make_pipeline(\n",
    "    TfidfVectorizer(min_df=3),\n",
    "    TruncatedSVD(n_components=128, random_state=1)\n",
    ")\n",
    "X = pipeline.fit_transform(texts)"
   ]
  },
  {
   "cell_type": "code",
   "execution_count": 53,
   "id": "2de6e425-32a3-4155-9a42-08639c069526",
   "metadata": {},
   "outputs": [
    {
     "name": "stderr",
     "output_type": "stream",
     "text": [
      "100%|██████████████████████████████████████████████████████████████| 4627/4627 [00:00<00:00, 1610676.79it/s]\n"
     ]
    }
   ],
   "source": [
    "ground_truth_questions = [None] * len(ground_truth)\n",
    "\n",
    "# get questions from ground_truth\n",
    "for i, q in enumerate(tqdm(ground_truth)):\n",
    "    ground_truth_questions[i] = q['question']\n",
    "\n",
    "# embedding of ground_truth questions\n",
    "Y = pipeline.transform(ground_truth_questions)\n",
    "\n",
    "# add embedding to correspondent question in ground_truth\n",
    "for i, q in enumerate(ground_truth):\n",
    "    q['vector_question'] = Y[i]"
   ]
  },
  {
   "cell_type": "code",
   "execution_count": 66,
   "id": "1a25be47-99b5-4824-8a77-8fb17330eb3c",
   "metadata": {},
   "outputs": [
    {
     "data": {
      "text/plain": [
       "{'question': 'Can I enroll in the course after it starts?',\n",
       " 'course': 'data-engineering-zoomcamp',\n",
       " 'document': '7842b56a',\n",
       " 'vector_question': array([ 3.24407882e-01, -2.39724068e-01, -1.38986303e-01,  1.64746821e-01,\n",
       "        -2.06825518e-01, -2.21634929e-02, -3.16873707e-02,  8.07068909e-02,\n",
       "         9.57649119e-02, -3.12314795e-01, -2.56414216e-01, -7.36323957e-02,\n",
       "         4.24134468e-02,  3.86402981e-02, -1.36343078e-01, -4.30954349e-02,\n",
       "        -1.07711890e-02,  7.02276780e-02, -1.56171246e-01,  1.03608887e-01,\n",
       "        -4.95673377e-02,  2.08087561e-01,  1.77977559e-02,  8.23224543e-02,\n",
       "        -1.03444901e-01, -2.53648297e-02,  3.66052934e-02, -6.38937889e-02,\n",
       "        -1.10721280e-01,  1.88322361e-02,  2.06317472e-02, -5.00333345e-02,\n",
       "         7.98200025e-03, -4.02659100e-02, -5.28831080e-02, -8.36499430e-02,\n",
       "        -3.33309913e-02, -6.01554364e-02,  1.16556820e-01, -6.51993567e-02,\n",
       "         5.71069151e-02,  1.87052621e-02,  1.81269608e-03, -1.45068354e-01,\n",
       "        -2.99023602e-02, -3.02222293e-02, -2.37816691e-03,  2.57877963e-02,\n",
       "         1.39579353e-01, -6.03993439e-02,  2.84783664e-02, -4.45190004e-02,\n",
       "         4.28851375e-03,  1.27462383e-01,  7.55933436e-03, -3.56066723e-02,\n",
       "        -3.50341413e-02,  6.91117791e-03, -5.47726887e-02, -2.89893092e-02,\n",
       "         9.00655312e-02, -4.17366437e-03, -7.68320840e-02,  3.83945253e-02,\n",
       "        -5.70622647e-02, -5.24744666e-02, -5.98453221e-02, -1.00327894e-01,\n",
       "        -3.08633718e-02, -8.57687059e-03,  4.31731790e-02,  9.27391123e-03,\n",
       "         2.39821867e-02,  9.48492921e-02,  8.28757169e-02, -8.75343946e-02,\n",
       "         2.71482534e-02,  5.00611492e-02,  8.59438021e-03, -2.72107035e-03,\n",
       "        -1.67409824e-02, -7.05772832e-02, -4.97395601e-03, -6.77349388e-03,\n",
       "         1.48051433e-02,  1.23232365e-02,  3.59035718e-03,  3.71920941e-03,\n",
       "         6.06209165e-02, -7.06854961e-02,  7.42763668e-03,  2.87323007e-02,\n",
       "        -7.05801570e-02, -4.64192214e-03,  2.28542936e-02,  9.83291583e-03,\n",
       "         1.78513848e-02,  5.94190234e-03, -9.28637814e-03,  4.88684886e-02,\n",
       "        -4.03328376e-02,  4.60640093e-02,  1.04814526e-01, -4.07228758e-02,\n",
       "        -5.30727404e-03, -1.28163612e-03,  3.77022078e-02, -2.22405338e-02,\n",
       "         8.31023831e-02,  3.83083551e-03,  2.42856900e-02, -1.43955239e-02,\n",
       "         1.12746117e-02, -5.82355581e-02,  3.54418776e-02, -1.59799204e-02,\n",
       "         2.41942427e-02,  3.35181622e-03,  5.71304557e-03,  2.11625038e-02,\n",
       "        -1.38042623e-02,  2.97718935e-02, -3.66211126e-02, -1.40274941e-04,\n",
       "        -1.51575083e-02, -2.52933131e-02, -3.93906056e-02, -1.77243013e-02])}"
      ]
     },
     "execution_count": 66,
     "metadata": {},
     "output_type": "execute_result"
    }
   ],
   "source": [
    "ground_truth[10]"
   ]
  },
  {
   "cell_type": "code",
   "execution_count": 55,
   "id": "8b71da2f-1c12-479e-98c1-a51a7f0f0ba2",
   "metadata": {},
   "outputs": [
    {
     "data": {
      "text/plain": [
       "<minsearch.vector.VectorSearch at 0x72fcd1922930>"
      ]
     },
     "execution_count": 55,
     "metadata": {},
     "output_type": "execute_result"
    }
   ],
   "source": [
    "vindex = VectorSearch(keyword_fields={'course'})\n",
    "vindex.fit(X, documents)"
   ]
  },
  {
   "cell_type": "code",
   "execution_count": 58,
   "id": "50df56b4-4270-4636-b19c-eb974781b41d",
   "metadata": {},
   "outputs": [],
   "source": [
    "def minsearch_vector(q):\n",
    "    return vindex.search(\n",
    "        query_vector=q['vector_question'],\n",
    "        filter_dict={'course': q['course']},\n",
    "        num_results=5,\n",
    "        output_ids=True\n",
    "    )"
   ]
  },
  {
   "cell_type": "code",
   "execution_count": 59,
   "id": "b5876973-ae02-47b0-ad6e-7fe6db9915ef",
   "metadata": {},
   "outputs": [
    {
     "name": "stderr",
     "output_type": "stream",
     "text": [
      "100%|█████████████████████████████████████████████████████████████████| 4627/4627 [00:03<00:00, 1267.05it/s]\n"
     ]
    },
    {
     "data": {
      "text/plain": [
       "{'hit_rate': 0.48173762697212014, 'mrr': 0.3572833369353793}"
      ]
     },
     "execution_count": 59,
     "metadata": {},
     "output_type": "execute_result"
    }
   ],
   "source": [
    "evaluate(ground_truth, minsearch_vector)"
   ]
  },
  {
   "cell_type": "markdown",
   "id": "c77a8560-2e1b-4fc6-a312-04504cd4e092",
   "metadata": {},
   "source": [
    "## Q3 Vector search for question and answer"
   ]
  },
  {
   "cell_type": "code",
   "execution_count": 74,
   "id": "b976fe57-8c89-40b6-a9e1-d98821849dee",
   "metadata": {},
   "outputs": [],
   "source": [
    "texts_q = []\n",
    "\n",
    "for doc in documents:\n",
    "    t = doc['question'] + ' ' + doc['text']\n",
    "    texts_q.append(t)\n",
    "\n",
    "# pipeline = make_pipeline(\n",
    "#     TfidfVectorizer(min_df=3),\n",
    "#     TruncatedSVD(n_components=128, random_state=1)\n",
    "# )\n",
    "X_q = pipeline.fit_transform(texts_q)"
   ]
  },
  {
   "cell_type": "code",
   "execution_count": 75,
   "id": "7a998c6f-541d-4f9d-9660-5e6fa066a3f1",
   "metadata": {},
   "outputs": [
    {
     "data": {
      "text/plain": [
       "<minsearch.vector.VectorSearch at 0x72fcd1900da0>"
      ]
     },
     "execution_count": 75,
     "metadata": {},
     "output_type": "execute_result"
    }
   ],
   "source": [
    "vindex_q = VectorSearch(keyword_fields={'course'})\n",
    "vindex_q.fit(X_q, documents)"
   ]
  },
  {
   "cell_type": "code",
   "execution_count": 67,
   "id": "36a18a14-04e9-4f76-9d28-84a9ec87af10",
   "metadata": {},
   "outputs": [],
   "source": [
    "doc_idx = {d['id']: d for d in documents}"
   ]
  },
  {
   "cell_type": "code",
   "execution_count": 76,
   "id": "186fdfee-cbe3-4bd5-bb17-dd7ed3b76d43",
   "metadata": {},
   "outputs": [
    {
     "name": "stderr",
     "output_type": "stream",
     "text": [
      "100%|███████████████████████████████████████████████████████████████| 4627/4627 [00:00<00:00, 761329.28it/s]\n"
     ]
    }
   ],
   "source": [
    "ground_truth_questions_q = [None] * len(ground_truth)\n",
    "\n",
    "# get questions from ground_truth\n",
    "for i, q in enumerate(tqdm(ground_truth)):\n",
    "    doc_id = q['document']\n",
    "    document = doc_idx[doc_id]\n",
    "    text = document['text']\n",
    "    ground_truth_questions_q[i] = q['question'] + ' ' + text\n",
    "\n",
    "# embedding of ground_truth questions\n",
    "Y = pipeline.transform(ground_truth_questions_q)\n",
    "\n",
    "# add embedding to correspondent question in ground_truth\n",
    "for i, q in enumerate(ground_truth):\n",
    "    q['vector_question_q'] = Y[i]"
   ]
  },
  {
   "cell_type": "code",
   "execution_count": 77,
   "id": "abcb8495-c899-4017-8d1d-45a82eabff18",
   "metadata": {},
   "outputs": [],
   "source": [
    "def minsearch_vector_q(q):\n",
    "    return vindex_q.search(\n",
    "        query_vector=q['vector_question_q'],\n",
    "        filter_dict={'course': q['course']},\n",
    "        num_results=5,\n",
    "        output_ids=True\n",
    "    )"
   ]
  },
  {
   "cell_type": "code",
   "execution_count": 78,
   "id": "29a55872-25ec-48f0-b90e-abf1d81009b9",
   "metadata": {},
   "outputs": [
    {
     "name": "stderr",
     "output_type": "stream",
     "text": [
      "100%|█████████████████████████████████████████████████████████████████| 4627/4627 [00:03<00:00, 1300.49it/s]\n"
     ]
    },
    {
     "data": {
      "text/plain": [
       "{'hit_rate': 1.0, 'mrr': 0.9982890281679996}"
      ]
     },
     "execution_count": 78,
     "metadata": {},
     "output_type": "execute_result"
    }
   ],
   "source": [
    "evaluate(ground_truth, minsearch_vector_q)"
   ]
  }
 ],
 "metadata": {
  "kernelspec": {
   "display_name": "Python 3 (ipykernel)",
   "language": "python",
   "name": "python3"
  },
  "language_info": {
   "codemirror_mode": {
    "name": "ipython",
    "version": 3
   },
   "file_extension": ".py",
   "mimetype": "text/x-python",
   "name": "python",
   "nbconvert_exporter": "python",
   "pygments_lexer": "ipython3",
   "version": "3.12.1"
  }
 },
 "nbformat": 4,
 "nbformat_minor": 5
}
